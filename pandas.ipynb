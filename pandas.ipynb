{
 "cells": [
  {
   "cell_type": "code",
   "execution_count": 20,
   "id": "9624aa4a",
   "metadata": {},
   "outputs": [],
   "source": [
    "import numpy as np\n",
    "import pandas as pd"
   ]
  },
  {
   "cell_type": "markdown",
   "id": "76d1892b",
   "metadata": {},
   "source": [
    "# Dataframes\n",
    "- Pandas allows you to create Dataframes from CSVs, matrices, tables, arrays, etc.\n",
    "- Dataframes allow you to access, represent, and manipulate data\n",
    "- the cell below creates a new dataframe from a sample CSV and prints the columns then the head, or the first five rows\n",
    "- documentation:\n",
    "    - https://pandas.pydata.org/docs/reference/frame.html"
   ]
  },
  {
   "cell_type": "code",
   "execution_count": 39,
   "id": "ea5657be",
   "metadata": {},
   "outputs": [
    {
     "name": "stdout",
     "output_type": "stream",
     "text": [
      "Index(['First', 'Last', 'Street Address', 'City', 'State', 'ZIP'], dtype='object')\n",
      "\n",
      "     First      Last                    Street Address         City State  \\\n",
      "0     John       Doe                 120 jefferson st.    Riverside    NJ   \n",
      "1     Jack  McGinnis                      220 hobo Av.        Phila    PA   \n",
      "2     John    Repici                 120 Jefferson St.    Riverside    NJ   \n",
      "3  Stephen     Tyler  7452 Terrace \"At the Plaza\" road     SomeTown    SD   \n",
      "4   George  Blankman                    123 Four Drive     SomeTown    SD   \n",
      "5     Joan       Jet               9th, at Terrace plc  Desert City    CO   \n",
      "\n",
      "     ZIP  \n",
      "0  93235  \n",
      "1  33489  \n",
      "2  94853  \n",
      "3  89353  \n",
      "4  23959  \n",
      "5  98753  \n"
     ]
    }
   ],
   "source": [
    "df = pd.read_csv(\"sample.csv\")\n",
    "df.name = 'sample.csv'\n",
    "print(df.columns)\n",
    "print(\"\")\n",
    "print(df)"
   ]
  },
  {
   "cell_type": "code",
   "execution_count": 40,
   "id": "979fed5c",
   "metadata": {},
   "outputs": [
    {
     "data": {
      "text/plain": [
       "First             object\n",
       "Last              object\n",
       "Street Address    object\n",
       "City              object\n",
       "State             object\n",
       "ZIP                int64\n",
       "dtype: object"
      ]
     },
     "execution_count": 40,
     "metadata": {},
     "output_type": "execute_result"
    }
   ],
   "source": [
    "df.dtypes"
   ]
  },
  {
   "cell_type": "markdown",
   "id": "bc000ff2",
   "metadata": {},
   "source": [
    "### Accessing Individual Columns"
   ]
  },
  {
   "cell_type": "code",
   "execution_count": 41,
   "id": "96754e71",
   "metadata": {},
   "outputs": [
    {
     "data": {
      "text/plain": [
       "0       John\n",
       "1       Jack\n",
       "2       John\n",
       "3    Stephen\n",
       "4     George\n",
       "5       Joan\n",
       "Name: First, dtype: object"
      ]
     },
     "execution_count": 41,
     "metadata": {},
     "output_type": "execute_result"
    }
   ],
   "source": [
    "df['First']"
   ]
  },
  {
   "cell_type": "code",
   "execution_count": 42,
   "id": "d66c6c17",
   "metadata": {},
   "outputs": [
    {
     "data": {
      "text/plain": [
       "0         Doe\n",
       "1    McGinnis\n",
       "2      Repici\n",
       "3       Tyler\n",
       "4    Blankman\n",
       "5         Jet\n",
       "Name: Last, dtype: object"
      ]
     },
     "execution_count": 42,
     "metadata": {},
     "output_type": "execute_result"
    }
   ],
   "source": [
    "df['Last']"
   ]
  },
  {
   "cell_type": "markdown",
   "id": "9e3261cf",
   "metadata": {},
   "source": [
    "### Iterating Through Columns:"
   ]
  },
  {
   "cell_type": "code",
   "execution_count": 43,
   "id": "a4795bad",
   "metadata": {},
   "outputs": [
    {
     "name": "stdout",
     "output_type": "stream",
     "text": [
      "First\n",
      "Last\n",
      "Street Address\n",
      "City\n",
      "State\n",
      "ZIP\n"
     ]
    }
   ],
   "source": [
    "for i in df.columns:\n",
    "    print(i)"
   ]
  },
  {
   "cell_type": "markdown",
   "id": "32f669bd",
   "metadata": {},
   "source": [
    "### Iterating Through Entire Dataframe"
   ]
  },
  {
   "cell_type": "code",
   "execution_count": 24,
   "id": "0aa8561f",
   "metadata": {
    "scrolled": true
   },
   "outputs": [
    {
     "name": "stdout",
     "output_type": "stream",
     "text": [
      "John\n",
      "Jack\n",
      "John\n",
      "Stephen\n",
      "George\n",
      "Joan\n",
      "Doe\n",
      "McGinnis\n",
      "Repici\n",
      "Tyler\n",
      "Blankman\n",
      "Jet\n",
      "120 jefferson st.\n",
      "220 hobo Av.\n",
      "120 Jefferson St.\n",
      "7452 Terrace \"At the Plaza\" road\n",
      "123 Four Drive\n",
      "9th, at Terrace plc\n",
      "Riverside\n",
      "Phila\n",
      "Riverside\n",
      "SomeTown\n",
      "SomeTown\n",
      "Desert City\n",
      "NJ\n",
      "PA\n",
      "NJ\n",
      "SD\n",
      "SD\n",
      "CO\n",
      "93235\n",
      "33489\n",
      "94853\n",
      "89353\n",
      "23959\n",
      "98753\n"
     ]
    }
   ],
   "source": [
    "for i in df.columns:\n",
    "    for cell in df[i]:\n",
    "        print(cell)"
   ]
  },
  {
   "cell_type": "code",
   "execution_count": 47,
   "id": "75fc9e9a",
   "metadata": {},
   "outputs": [
    {
     "name": "stdout",
     "output_type": "stream",
     "text": [
      "93235\n",
      "33489\n",
      "94853\n",
      "89353\n",
      "23959\n",
      "98753\n"
     ]
    }
   ],
   "source": [
    "for i in df.columns:\n",
    "    for cell in df[i]:\n",
    "        if type(cell) == int: # filter values by data type\n",
    "            print(cell)"
   ]
  },
  {
   "cell_type": "markdown",
   "id": "b40bcd05",
   "metadata": {},
   "source": [
    "### Detecting Datatypes"
   ]
  },
  {
   "cell_type": "code",
   "execution_count": 62,
   "id": "9ff6d3b7",
   "metadata": {},
   "outputs": [],
   "source": [
    "def get_max_percentage(type_count):\n",
    "    counts = []\n",
    "    d_type = None\n",
    "    for key in type_count:\n",
    "        counts.append(type_count[key])\n",
    "    total = sum(counts)\n",
    "    max_count = max(counts)\n",
    "    for key in type_count:\n",
    "        if type_count[key] == max_count:\n",
    "            d_type = key\n",
    "            break\n",
    "    return (d_type, max_count / total * 100)"
   ]
  },
  {
   "cell_type": "code",
   "execution_count": 65,
   "id": "e8bdd9ab",
   "metadata": {},
   "outputs": [
    {
     "name": "stdout",
     "output_type": "stream",
     "text": [
      "Column Name: First\n",
      "Is confidential? False\n",
      "{'int': 0, 'float': 0, 'string': 6, 'boolean': 0, 'other': 0}\n",
      "Max Data type: string 100.0%\n",
      "\n",
      "Column Name: Last\n",
      "Is confidential? False\n",
      "{'int': 0, 'float': 0, 'string': 6, 'boolean': 0, 'other': 0}\n",
      "Max Data type: string 100.0%\n",
      "\n",
      "Column Name: Street Address\n",
      "Is confidential? True\n",
      "{'int': 0, 'float': 0, 'string': 6, 'boolean': 0, 'other': 0}\n",
      "Max Data type: string 100.0%\n",
      "\n",
      "Column Name: City\n",
      "Is confidential? False\n",
      "{'int': 0, 'float': 0, 'string': 6, 'boolean': 0, 'other': 0}\n",
      "Max Data type: string 100.0%\n",
      "\n",
      "Column Name: State\n",
      "Is confidential? False\n",
      "{'int': 0, 'float': 0, 'string': 6, 'boolean': 0, 'other': 0}\n",
      "Max Data type: string 100.0%\n",
      "\n",
      "Column Name: ZIP\n",
      "Is confidential? False\n",
      "{'int': 6, 'float': 0, 'string': 0, 'boolean': 0, 'other': 0}\n",
      "Max Data type: int 100.0%\n",
      "\n"
     ]
    }
   ],
   "source": [
    "confidential = [\"SSN\", \"ID\", \"Hash\", \"Street\"]\n",
    "\n",
    "for i in df.columns:\n",
    "    type_count = {\n",
    "        \"int\": 0,\n",
    "        \"float\": 0,\n",
    "        \"string\": 0,\n",
    "        \"boolean\": 0,\n",
    "        \"other\": 0\n",
    "    }\n",
    "    is_confidential = False\n",
    "    max_percentage = 0\n",
    "    for cell in df[i]:\n",
    "        for j in confidential:\n",
    "            if j in i:\n",
    "                is_confidential = True\n",
    "                break\n",
    "        if type(cell) == int: # filter values by data type\n",
    "            type_count[\"int\"] += 1\n",
    "        elif type(cell) == float:\n",
    "            type_count[\"float\"] += 1\n",
    "        elif type(cell) == str:\n",
    "            type_count[\"string\"] += 1\n",
    "        elif type(cell) == bool:\n",
    "            type_count[\"boolean\"] += 1\n",
    "        else:\n",
    "            type_count[\"other\"] += 1\n",
    "    temp = get_max_percentage(type_count)\n",
    "    print(\"Column Name: {}\".format(i))\n",
    "    print(\"Is confidential? {}\".format(is_confidential))\n",
    "    print(\"{}\".format(type_count))\n",
    "    print(\"Max Data type: {} {}%\\n\".format(temp[0], temp[1]))"
   ]
  },
  {
   "cell_type": "markdown",
   "id": "ad88d1be",
   "metadata": {},
   "source": [
    "### Detecting Confidential Info"
   ]
  },
  {
   "cell_type": "code",
   "execution_count": 45,
   "id": "237b399a",
   "metadata": {},
   "outputs": [],
   "source": [
    "def contains_confidential(dataframes, confidential):\n",
    "    for i in dataframes:\n",
    "        for j in i.columns:\n",
    "            for k in confidential:\n",
    "                if k in j:\n",
    "                    print(\"Column \\\"{}\\\" in dataframe \\\"{}\\\" contains confidential info\".format(j, i.name))"
   ]
  },
  {
   "cell_type": "code",
   "execution_count": 46,
   "id": "5003580d",
   "metadata": {},
   "outputs": [
    {
     "name": "stdout",
     "output_type": "stream",
     "text": [
      "Column \"Street Address\" in dataframe \"sample.csv\" contains confidential info\n"
     ]
    }
   ],
   "source": [
    "dfs = [df]\n",
    "confidential = [\"SSN\", \"ID\", \"Hash\", \"Street\"]\n",
    "contains_confidential(dfs, confidential)"
   ]
  }
 ],
 "metadata": {
  "kernelspec": {
   "display_name": "Python 3",
   "language": "python",
   "name": "python3"
  },
  "language_info": {
   "codemirror_mode": {
    "name": "ipython",
    "version": 3
   },
   "file_extension": ".py",
   "mimetype": "text/x-python",
   "name": "python",
   "nbconvert_exporter": "python",
   "pygments_lexer": "ipython3",
   "version": "3.9.5"
  }
 },
 "nbformat": 4,
 "nbformat_minor": 5
}
